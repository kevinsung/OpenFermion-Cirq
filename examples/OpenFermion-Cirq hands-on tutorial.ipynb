{
 "cells": [
  {
   "cell_type": "markdown",
   "metadata": {},
   "source": [
    "# OpenFermion-Cirq hands-on tutorial"
   ]
  },
  {
   "cell_type": "markdown",
   "metadata": {},
   "source": [
    "OpenFermion is a library for obtaining Hamiltonian representations and performing pre-processing tasks on them. OpenFermion-Cirq compiles these Hamiltonian representations into quantum simulation circuits in Cirq.\n",
    "\n",
    "As part of the OpenFermion hands-on tutorial, we demonstrated how to generate a Hubbard model Hamiltonian as a FermionOperator. Here we'll use a spinless model so that the circuits are a more manageable size.\n",
    "\n",
    "The spinless Hubbard model has the Hamiltonian\n",
    "\n",
    "$$\n",
    "H = - t \\sum_{\\langle i,j \\rangle}\n",
    "             (a^\\dagger_{i} a_{j} +\n",
    "              a^\\dagger_{j} a_{i})\n",
    "     + U \\sum_{\\langle i, j \\rangle} a^\\dagger_{i} a_{i}\n",
    "                  a^\\dagger_{j} a_{j}\n",
    "$$\n",
    "\n",
    "where $\\langle i, j \\rangle$ ranges over the edges in a 2-dimensional grid."
   ]
  },
  {
   "cell_type": "code",
   "execution_count": 1,
   "metadata": {},
   "outputs": [
    {
     "name": "stdout",
     "output_type": "stream",
     "text": [
      "4.0 [0^ 0 1^ 1] +\n",
      "4.0 [0^ 0 2^ 2] +\n",
      "-1.0 [0^ 1] +\n",
      "-1.0 [0^ 2] +\n",
      "-1.0 [0^ 4] +\n",
      "-1.0 [1^ 0] +\n",
      "4.0 [1^ 1 3^ 3] +\n",
      "-1.0 [1^ 3] +\n",
      "-1.0 [1^ 5] +\n",
      "-1.0 [2^ 0] +\n",
      "4.0 [2^ 2 3^ 3] +\n",
      "4.0 [2^ 2 4^ 4] +\n",
      "-1.0 [2^ 3] +\n",
      "-1.0 [2^ 4] +\n",
      "-1.0 [3^ 1] +\n",
      "-1.0 [3^ 2] +\n",
      "4.0 [3^ 3 5^ 5] +\n",
      "-1.0 [3^ 5] +\n",
      "-1.0 [4^ 0] +\n",
      "-1.0 [4^ 2] +\n",
      "4.0 [4^ 4 0^ 0] +\n",
      "4.0 [4^ 4 5^ 5] +\n",
      "-1.0 [4^ 5] +\n",
      "-1.0 [5^ 1] +\n",
      "-1.0 [5^ 3] +\n",
      "-1.0 [5^ 4] +\n",
      "4.0 [5^ 5 1^ 1]\n"
     ]
    }
   ],
   "source": [
    "import openfermion as of\n",
    "\n",
    "# Set Hubbard model parameters\n",
    "x_dim = 2\n",
    "y_dim = 3\n",
    "tunneling = 1.0\n",
    "coulomb = 4.0\n",
    "spinless=True\n",
    "\n",
    "# Create Hubbard model Hamiltonian as FermionOperator\n",
    "hubbard_model = of.fermi_hubbard(x_dim, y_dim, tunneling, coulomb, spinless=spinless)\n",
    "\n",
    "print(hubbard_model)"
   ]
  },
  {
   "cell_type": "markdown",
   "metadata": {},
   "source": [
    "In this tutorial we'll demonstrate how to obtain circuits to simulate time evolution by this Hamiltonian and also use a variational algorithm to approximate its ground energy."
   ]
  },
  {
   "cell_type": "markdown",
   "metadata": {},
   "source": [
    "## Hamiltonian simulation via Trotter formulas\n",
    "\n",
    "- Goal: apply $\\exp(-i H t)$ where $H = \\sum_j H_j$\n",
    "- Use an approximation such as $\\exp(-i H t) \\approx (\\prod_{j=1} \\exp(-i H_j t/r))^r$\n",
    "- Exposed via the `simulate_trotter` function\n",
    "- Currently implemented algorithms are from [arXiv:1706.00023](https://arxiv.org/pdf/1706.00023.pdf), [arXiv:1711.04789](https://arxiv.org/pdf/1711.04789.pdf), and [arXiv:1808.02625](https://arxiv.org/pdf/1808.02625.pdf), and are based on the JWT\n",
    "- Currently supported Hamiltonian types: DiagonalCoulombHamiltonian and InteractionOperator\n",
    "\n",
    "As a demonstration, we'll simulate time evolution under the Hubbard model Hamiltonian we generated earlier.\n",
    "\n",
    "First, let's create a random initial state and apply the exact time evolution by matrix exponentiation:\n",
    "$$\n",
    "\\lvert \\psi \\rangle \\mapsto \\exp(-i H t) \\lvert \\psi \\rangle\n",
    "$$"
   ]
  },
  {
   "cell_type": "code",
   "execution_count": 2,
   "metadata": {},
   "outputs": [],
   "source": [
    "from scipy.sparse.linalg import expm_multiply\n",
    "\n",
    "# Create a random initial state\n",
    "n_qubits = of.count_qubits(hubbard_model)\n",
    "initial_state = of.haar_random_vector(2**n_qubits, seed=7)\n",
    "\n",
    "# Convert Hamiltonian to sparse matrix\n",
    "hubbard_sparse = of.get_sparse_operator(of.jordan_wigner(hubbard_model))\n",
    "\n",
    "# Set evolution time\n",
    "time = 1.0\n",
    "\n",
    "# Apply exp(-i H t) to the state\n",
    "exact_state = expm_multiply(-1j*hubbard_sparse*time, initial_state)"
   ]
  },
  {
   "cell_type": "markdown",
   "metadata": {},
   "source": [
    "Now, let's create a circuit to perform the evolution and compare the fidelity of the resulting state with the one from exact evolution. The fidelity can be increased by increasing the number of Trotter steps or the order of the formula. Note that the Hamiltonian input to `simulate_trotter` should be a DiagonalCoulombHamiltonian, not a FermionOperator."
   ]
  },
  {
   "cell_type": "code",
   "execution_count": 3,
   "metadata": {
    "scrolled": false
   },
   "outputs": [
    {
     "name": "stdout",
     "output_type": "stream",
     "text": [
      "0.9732473269809816\n"
     ]
    }
   ],
   "source": [
    "import cirq\n",
    "import openfermioncirq as ofc\n",
    "import numpy as np\n",
    "\n",
    "# Convert Hamiltonian to a DiagonalCoulombHamiltonian instance\n",
    "hubbard_hamiltonian = of.get_diagonal_coulomb_hamiltonian(hubbard_model)\n",
    "\n",
    "# Initialize qubits\n",
    "qubits = cirq.LineQubit.range(n_qubits)\n",
    "\n",
    "# Create circuit\n",
    "circuit = cirq.Circuit.from_ops(\n",
    "    ofc.simulate_trotter(\n",
    "        qubits, hubbard_hamiltonian, time,\n",
    "        n_steps=10,\n",
    "        order=0,\n",
    "        algorithm=ofc.trotter.LINEAR_SWAP_NETWORK)\n",
    ")\n",
    "\n",
    "# Apply the circuit to the initial state\n",
    "result = circuit.apply_unitary_effect_to_state(initial_state)\n",
    "\n",
    "# Compute the fidelity with the final state from exact evolution\n",
    "fidelity = abs(np.dot(exact_state, result.conj()))**2\n",
    "\n",
    "print(fidelity)"
   ]
  },
  {
   "cell_type": "markdown",
   "metadata": {},
   "source": [
    "### Estimating hardware resources"
   ]
  },
  {
   "cell_type": "markdown",
   "metadata": {},
   "source": [
    "The circuit we generated above is expressed in terms of gates convenient for the algorithm, not for a specific hardware platform. Below, we print out a smaller version of the circuit (with a single Trotter step)."
   ]
  },
  {
   "cell_type": "code",
   "execution_count": 4,
   "metadata": {
    "scrolled": false
   },
   "outputs": [
    {
     "name": "stdout",
     "output_type": "stream",
     "text": [
      "0    1           2           3           4           5\n",
      "│    │           │           │           │           │\n",
      "XXYY─XXYY^-0.637 XXYY────────XXYY^-0.637 XXYY────────XXYY^-0.637\n",
      "│    │           │           │           │           │\n",
      "@────@^0.727     @───────────@^0.727     @───────────@^0.727\n",
      "│    │           │           │           │           │\n",
      "×ᶠ───×ᶠ          ×ᶠ──────────×ᶠ          ×ᶠ──────────×ᶠ\n",
      "│    │           │           │           │           │\n",
      "│    ×ᶠ──────────×ᶠ          ×ᶠ──────────×ᶠ          │\n",
      "│    │           │           │           │           │\n",
      "XXYY─XXYY^-0.637 │           │           XXYY────────XXYY^-0.637\n",
      "│    │           │           │           │           │\n",
      "@────@^0.727     │           │           @───────────@^0.727\n",
      "│    │           │           │           │           │\n",
      "×ᶠ───×ᶠ          ×ᶠ──────────×ᶠ          ×ᶠ──────────×ᶠ\n",
      "│    │           │           │           │           │\n",
      "│    XXYY────────XXYY^-0.637 XXYY────────XXYY^-0.637 │\n",
      "│    │           │           │           │           │\n",
      "│    @───────────@^0.727     @───────────@^0.727     │\n",
      "│    │           │           │           │           │\n",
      "│    ×ᶠ──────────×ᶠ          ×ᶠ──────────×ᶠ          │\n",
      "│    │           │           │           │           │\n",
      "XXYY─XXYY^-0.637 │           │           XXYY────────XXYY^-0.637\n",
      "│    │           │           │           │           │\n",
      "@────@^0.727     │           │           @───────────@^0.727\n",
      "│    │           │           │           │           │\n",
      "×ᶠ───×ᶠ          ×ᶠ──────────×ᶠ          ×ᶠ──────────×ᶠ\n",
      "│    │           │           │           │           │\n",
      "│    ×ᶠ──────────×ᶠ          ×ᶠ──────────×ᶠ          │\n",
      "│    │           │           │           │           │\n",
      "\n"
     ]
    }
   ],
   "source": [
    "# Create circuit\n",
    "circuit = cirq.Circuit.from_ops(\n",
    "    ofc.simulate_trotter(\n",
    "        qubits, hubbard_hamiltonian, time,\n",
    "        n_steps=1,\n",
    "        order=0,\n",
    "        algorithm=ofc.trotter.LINEAR_SWAP_NETWORK,\n",
    "        omit_final_swaps=True),\n",
    "    strategy=cirq.InsertStrategy.EARLIEST\n",
    ")\n",
    "\n",
    "cirq.DropNegligible().optimize_circuit(circuit)\n",
    "print(circuit.to_text_diagram(transpose=True))"
   ]
  },
  {
   "cell_type": "markdown",
   "metadata": {},
   "source": [
    "Let's convert the circuit to a form suitable for running on Google's Xmon hardware. The following line of code decomposes the gates of our circuit into the Xmon gate set and also performs optimizations such as merging single-qubit rotations."
   ]
  },
  {
   "cell_type": "code",
   "execution_count": 5,
   "metadata": {
    "scrolled": false
   },
   "outputs": [
    {
     "name": "stdout",
     "output_type": "stream",
     "text": [
      "0               1                2               3               4               5\n",
      "│               │                │               │               │               │\n",
      "W(0.549)^-0.5   │                W(0.75)^0.5     │               W(0.75)^0.5     │\n",
      "│               │                │               │               │               │\n",
      "@───────────────@                @───────────────@               @───────────────@\n",
      "│               │                │               │               │               │\n",
      "W(0.549)^0.5    W(0.0488)^-0.818 W(0.75)^-0.5    W(0.25)^0.818   W(0.75)^-0.5    W(0.25)^0.818\n",
      "│               │                │               │               │               │\n",
      "@───────────────@                @───────────────@               @───────────────@\n",
      "│               │                │               │               │               │\n",
      "W(0.412)^0.5    W(0.0488)^0.818  W(0.613)^0.5    W(0.25)^-0.818  W(0.613)^0.5    W(0.25)^-0.818\n",
      "│               │                │               │               │               │\n",
      "@───────────────@                @───────────────@               @───────────────@\n",
      "│               │                │               │               │               │\n",
      "W(0.912)^-0.363 W(0.887)^0.5     W(0.113)^-0.637 W(0.887)^0.5    W(0.113)^-0.637 │\n",
      "│               │                │               │               │               │\n",
      "│               @────────────────@               @───────────────@               │\n",
      "│               │                │               │               │               │\n",
      "│               W(0.887)^-0.5    W(0.613)^0.5    W(0.887)^0.5    W(0.613)^-0.5   │\n",
      "│               │                │               │               │               │\n",
      "│               @────────────────@               @───────────────@               │\n",
      "│               │                │               │               │               │\n",
      "│               W(0.887)^-0.5    @───────────────@               W(0.113)^0.5    │\n",
      "│               │                │               │               │               │\n",
      "@───────────────@                W(0.613)^-0.5   W(0.887)^0.5    @───────────────@\n",
      "│               │                │               │               │               │\n",
      "W(0.412)^-0.5   W(0.185)^-0.818  @───────────────@               W(0.613)^-0.5   W(0.887)^-0.818\n",
      "│               │                │               │               │               │\n",
      "@───────────────@                W(0.613)^0.5    W(0.387)^-0.579 @───────────────@\n",
      "│               │                │               │               │               │\n",
      "W(0.276)^-0.5   W(0.185)^0.818   │               │               W(0.477)^0.5    W(0.887)^0.818\n",
      "│               │                │               │               │               │\n",
      "@───────────────@                │               │               @───────────────@\n",
      "│               │                │               │               │               │\n",
      "W(0.776)^0.363  W(0.425)^0.5     │               │               W(0.477)^0.5    │\n",
      "│               │                │               │               │               │\n",
      "│               @────────────────@               @───────────────@               │\n",
      "│               │                │               │               │               │\n",
      "│               W(0.425)^-0.5    W(0.212)^-0.818 W(0.887)^-0.5   W(0.261)^0.818  │\n",
      "│               │                │               │               │               │\n",
      "│               @────────────────@               @───────────────@               │\n",
      "│               │                │               │               │               │\n",
      "│               W(0.562)^0.5     W(0.212)^-0.818 W(0.0232)^-0.5  W(0.261)^0.818  │\n",
      "│               │                │               │               │               │\n",
      "│               @────────────────@               @───────────────@               │\n",
      "│               │                │               │               │               │\n",
      "│               W(0.562)^-0.5    W(0.477)^0.5    W(0.523)^-0.558 W(0.204)^-0.5   │\n",
      "│               │                │               │               │               │\n",
      "@───────────────@                @───────────────@               @───────────────@\n",
      "│               │                │               │               │               │\n",
      "W(0.276)^0.5    W(0.595)^-0.818  W(0.477)^0.5    W(0.0232)^-0.5  W(0.204)^-0.5   W(0.523)^-0.818\n",
      "│               │                │               │               │               │\n",
      "@───────────────@                @───────────────@               @───────────────@\n",
      "│               │                │               │               │               │\n",
      "W(0.139)^0.5    W(0.595)^0.818   │               │               W(0.0669)^0.5   W(0.523)^0.818\n",
      "│               │                │               │               │               │\n",
      "@───────────────@                │               │               @───────────────@\n",
      "│               │                │               │               │               │\n",
      "W(0.139)^-0.5   W(0.433)^-0.5    │               │               W(0.567)^0.637  Z^-0.91\n",
      "│               │                │               │               │               │\n",
      "Z^-0.227        @────────────────@               @───────────────@               │\n",
      "│               │                │               │               │               │\n",
      "│               W(0.433)^-0.5    W(0.477)^0.5    W(0.0232)^0.5   W(0.0669)^0.5   │\n",
      "│               │                │               │               │               │\n",
      "│               @────────────────@               @───────────────@               │\n",
      "│               │                │               │               │               │\n",
      "│               W(0.433)^-0.5    W(0.477)^-0.5   W(0.0232)^-0.5  W(0.0669)^-0.5  │\n",
      "│               │                │               │               │               │\n",
      "│               W(0.0915)        W(0.352)        W(0.0799)       Z^-0.817        │\n",
      "│               │                │               │               │               │\n",
      "│               │                Z^-0.977        Z^-0.387        │               │\n",
      "│               │                │               │               │               │\n",
      "\n"
     ]
    }
   ],
   "source": [
    "xmon_circuit = cirq.google.optimized_for_xmon(circuit)\n",
    "\n",
    "print(xmon_circuit.to_text_diagram(transpose=True))"
   ]
  },
  {
   "cell_type": "markdown",
   "metadata": {},
   "source": [
    "The Xmon gate set contains one type of two-qubit gate, Exp11Gate. These gates will be the limiting resource in the near term. Let's count how many gates of this type appear in our circuit."
   ]
  },
  {
   "cell_type": "code",
   "execution_count": 6,
   "metadata": {},
   "outputs": [
    {
     "name": "stdout",
     "output_type": "stream",
     "text": [
      "39\n"
     ]
    }
   ],
   "source": [
    "exp11gates = xmon_circuit.findall_operations_with_gate_type(cirq.google.Exp11Gate)\n",
    "print(len(list(exp11gates)))"
   ]
  },
  {
   "cell_type": "markdown",
   "metadata": {},
   "source": [
    "## Variational algorithms (VQE)\n",
    "\n",
    "- Optimize a parameterized quantum circuit applied to an initial state to minimize a cost function\n",
    "- Usually, the cost function is\n",
    "$$\n",
    "E(\\vec \\theta) =  \\langle \\psi \\rvert\n",
    "U^\\dagger(\\vec{\\theta}) H U(\\vec{\\theta})\n",
    "\\lvert \\psi\\rangle.\n",
    "$$\n",
    "- The parameterized circuit $U(\\vec{\\theta})$ is called an ansatz\n",
    "- A popular choice is to use an ansatz of the form\n",
    "$$\n",
    "U(\\vec{\\theta}) = \\prod_j \\exp(-i \\theta_j H_j)\n",
    "$$\n",
    "where $H = \\sum_j H_j$\n",
    "- OpenFermion-Cirq contains some built-in ansatzes of this form based on Trotter steps used in Hamiltonian simulation."
   ]
  },
  {
   "cell_type": "code",
   "execution_count": 7,
   "metadata": {
    "scrolled": false
   },
   "outputs": [
    {
     "name": "stdout",
     "output_type": "stream",
     "text": [
      "0    1            2            3            4            5\n",
      "│    │            │            │            │            │\n",
      "XXYY─XXYY^T_0_1_0 XXYY─────────XXYY^T_2_3_0 XXYY─────────XXYY^T_4_5_0\n",
      "│    │            │            │            │            │\n",
      "@────@^V_0_1_0    @────────────@^V_2_3_0    @────────────@^V_4_5_0\n",
      "│    │            │            │            │            │\n",
      "×ᶠ───×ᶠ           ×ᶠ───────────×ᶠ           ×ᶠ───────────×ᶠ\n",
      "│    │            │            │            │            │\n",
      "│    ×ᶠ───────────×ᶠ           ×ᶠ───────────×ᶠ           │\n",
      "│    │            │            │            │            │\n",
      "XXYY─XXYY^T_1_3_0 ×ᶠ───────────×ᶠ           XXYY─────────XXYY^T_2_4_0\n",
      "│    │            │            │            │            │\n",
      "@────@^V_1_3_0    │            │            @────────────@^V_2_4_0\n",
      "│    │            │            │            │            │\n",
      "×ᶠ───×ᶠ           │            │            ×ᶠ───────────×ᶠ\n",
      "│    │            │            │            │            │\n",
      "│    XXYY─────────XXYY^T_1_5_0 XXYY─────────XXYY^T_0_4_0 │\n",
      "│    │            │            │            │            │\n",
      "│    @────────────@^V_1_5_0    @────────────@^V_0_4_0    │\n",
      "│    │            │            │            │            │\n",
      "│    ×ᶠ───────────×ᶠ           ×ᶠ───────────×ᶠ           │\n",
      "│    │            │            │            │            │\n",
      "XXYY─XXYY^T_3_5_0 ×ᶠ───────────×ᶠ           XXYY─────────XXYY^T_0_2_0\n",
      "│    │            │            │            │            │\n",
      "@────@^V_3_5_0    │            │            @────────────@^V_0_2_0\n",
      "│    │            │            │            │            │\n",
      "×ᶠ───×ᶠ           │            │            ×ᶠ───────────×ᶠ\n",
      "│    │            │            │            │            │\n",
      "│    ×ᶠ───────────×ᶠ           ×ᶠ───────────×ᶠ           │\n",
      "│    │            │            │            │            │\n",
      "│    ×ᶠ───────────×ᶠ           ×ᶠ───────────×ᶠ           │\n",
      "│    │            │            │            │            │\n",
      "@────@^V_3_5_0    ×ᶠ───────────×ᶠ           @────────────@^V_0_2_0\n",
      "│    │            │            │            │            │\n",
      "XXYY─XXYY^T_3_5_0 │            │            XXYY─────────XXYY^T_0_2_0\n",
      "│    │            │            │            │            │\n",
      "×ᶠ───×ᶠ           │            │            ×ᶠ───────────×ᶠ\n",
      "│    │            │            │            │            │\n",
      "│    @────────────@^V_1_5_0    @────────────@^V_0_4_0    │\n",
      "│    │            │            │            │            │\n",
      "│    XXYY─────────XXYY^T_1_5_0 XXYY─────────XXYY^T_0_4_0 │\n",
      "│    │            │            │            │            │\n",
      "│    ×ᶠ───────────×ᶠ           ×ᶠ───────────×ᶠ           │\n",
      "│    │            │            │            │            │\n",
      "@────@^V_1_3_0    ×ᶠ───────────×ᶠ           @────────────@^V_2_4_0\n",
      "│    │            │            │            │            │\n",
      "XXYY─XXYY^T_1_3_0 │            │            XXYY─────────XXYY^T_2_4_0\n",
      "│    │            │            │            │            │\n",
      "×ᶠ───×ᶠ           │            │            ×ᶠ───────────×ᶠ\n",
      "│    │            │            │            │            │\n",
      "│    ×ᶠ───────────×ᶠ           ×ᶠ───────────×ᶠ           │\n",
      "│    │            │            │            │            │\n",
      "@────@^V_0_1_0    @────────────@^V_2_3_0    @────────────@^V_4_5_0\n",
      "│    │            │            │            │            │\n",
      "XXYY─XXYY^T_0_1_0 XXYY─────────XXYY^T_2_3_0 XXYY─────────XXYY^T_4_5_0\n",
      "│    │            │            │            │            │\n",
      "×ᶠ───×ᶠ           ×ᶠ───────────×ᶠ           ×ᶠ───────────×ᶠ\n",
      "│    │            │            │            │            │\n",
      "XXYY─XXYY^T_0_1_1 XXYY─────────XXYY^T_2_3_1 XXYY─────────XXYY^T_4_5_1\n",
      "│    │            │            │            │            │\n",
      "@────@^V_0_1_1    @────────────@^V_2_3_1    @────────────@^V_4_5_1\n",
      "│    │            │            │            │            │\n",
      "×ᶠ───×ᶠ           ×ᶠ───────────×ᶠ           ×ᶠ───────────×ᶠ\n",
      "│    │            │            │            │            │\n",
      "│    ×ᶠ───────────×ᶠ           ×ᶠ───────────×ᶠ           │\n",
      "│    │            │            │            │            │\n",
      "XXYY─XXYY^T_1_3_1 ×ᶠ───────────×ᶠ           XXYY─────────XXYY^T_2_4_1\n",
      "│    │            │            │            │            │\n",
      "@────@^V_1_3_1    │            │            @────────────@^V_2_4_1\n",
      "│    │            │            │            │            │\n",
      "×ᶠ───×ᶠ           │            │            ×ᶠ───────────×ᶠ\n",
      "│    │            │            │            │            │\n",
      "│    XXYY─────────XXYY^T_1_5_1 XXYY─────────XXYY^T_0_4_1 │\n",
      "│    │            │            │            │            │\n",
      "│    @────────────@^V_1_5_1    @────────────@^V_0_4_1    │\n",
      "│    │            │            │            │            │\n",
      "│    ×ᶠ───────────×ᶠ           ×ᶠ───────────×ᶠ           │\n",
      "│    │            │            │            │            │\n",
      "XXYY─XXYY^T_3_5_1 ×ᶠ───────────×ᶠ           XXYY─────────XXYY^T_0_2_1\n",
      "│    │            │            │            │            │\n",
      "@────@^V_3_5_1    │            │            @────────────@^V_0_2_1\n",
      "│    │            │            │            │            │\n",
      "×ᶠ───×ᶠ           │            │            ×ᶠ───────────×ᶠ\n",
      "│    │            │            │            │            │\n",
      "│    ×ᶠ───────────×ᶠ           ×ᶠ───────────×ᶠ           │\n",
      "│    │            │            │            │            │\n",
      "│    ×ᶠ───────────×ᶠ           ×ᶠ───────────×ᶠ           │\n",
      "│    │            │            │            │            │\n",
      "@────@^V_3_5_1    ×ᶠ───────────×ᶠ           @────────────@^V_0_2_1\n",
      "│    │            │            │            │            │\n",
      "XXYY─XXYY^T_3_5_1 │            │            XXYY─────────XXYY^T_0_2_1\n",
      "│    │            │            │            │            │\n",
      "×ᶠ───×ᶠ           │            │            ×ᶠ───────────×ᶠ\n",
      "│    │            │            │            │            │\n",
      "│    @────────────@^V_1_5_1    @────────────@^V_0_4_1    │\n",
      "│    │            │            │            │            │\n",
      "│    XXYY─────────XXYY^T_1_5_1 XXYY─────────XXYY^T_0_4_1 │\n",
      "│    │            │            │            │            │\n",
      "│    ×ᶠ───────────×ᶠ           ×ᶠ───────────×ᶠ           │\n",
      "│    │            │            │            │            │\n",
      "@────@^V_1_3_1    ×ᶠ───────────×ᶠ           @────────────@^V_2_4_1\n",
      "│    │            │            │            │            │\n",
      "XXYY─XXYY^T_1_3_1 │            │            XXYY─────────XXYY^T_2_4_1\n",
      "│    │            │            │            │            │\n",
      "×ᶠ───×ᶠ           │            │            ×ᶠ───────────×ᶠ\n",
      "│    │            │            │            │            │\n",
      "│    ×ᶠ───────────×ᶠ           ×ᶠ───────────×ᶠ           │\n",
      "│    │            │            │            │            │\n",
      "@────@^V_0_1_1    @────────────@^V_2_3_1    @────────────@^V_4_5_1\n",
      "│    │            │            │            │            │\n",
      "XXYY─XXYY^T_0_1_1 XXYY─────────XXYY^T_2_3_1 XXYY─────────XXYY^T_4_5_1\n",
      "│    │            │            │            │            │\n",
      "×ᶠ───×ᶠ           ×ᶠ───────────×ᶠ           ×ᶠ───────────×ᶠ\n",
      "│    │            │            │            │            │\n",
      "XXYY─XXYY^T_0_1_2 XXYY─────────XXYY^T_2_3_2 XXYY─────────XXYY^T_4_5_2\n",
      "│    │            │            │            │            │\n",
      "@────@^V_0_1_2    @────────────@^V_2_3_2    @────────────@^V_4_5_2\n",
      "│    │            │            │            │            │\n",
      "×ᶠ───×ᶠ           ×ᶠ───────────×ᶠ           ×ᶠ───────────×ᶠ\n",
      "│    │            │            │            │            │\n",
      "│    ×ᶠ───────────×ᶠ           ×ᶠ───────────×ᶠ           │\n",
      "│    │            │            │            │            │\n",
      "XXYY─XXYY^T_1_3_2 ×ᶠ───────────×ᶠ           XXYY─────────XXYY^T_2_4_2\n",
      "│    │            │            │            │            │\n",
      "@────@^V_1_3_2    │            │            @────────────@^V_2_4_2\n",
      "│    │            │            │            │            │\n",
      "×ᶠ───×ᶠ           │            │            ×ᶠ───────────×ᶠ\n",
      "│    │            │            │            │            │\n",
      "│    XXYY─────────XXYY^T_1_5_2 XXYY─────────XXYY^T_0_4_2 │\n",
      "│    │            │            │            │            │\n",
      "│    @────────────@^V_1_5_2    @────────────@^V_0_4_2    │\n",
      "│    │            │            │            │            │\n",
      "│    ×ᶠ───────────×ᶠ           ×ᶠ───────────×ᶠ           │\n",
      "│    │            │            │            │            │\n",
      "XXYY─XXYY^T_3_5_2 ×ᶠ───────────×ᶠ           XXYY─────────XXYY^T_0_2_2\n",
      "│    │            │            │            │            │\n",
      "@────@^V_3_5_2    │            │            @────────────@^V_0_2_2\n",
      "│    │            │            │            │            │\n",
      "×ᶠ───×ᶠ           │            │            ×ᶠ───────────×ᶠ\n",
      "│    │            │            │            │            │\n",
      "│    ×ᶠ───────────×ᶠ           ×ᶠ───────────×ᶠ           │\n",
      "│    │            │            │            │            │\n",
      "│    ×ᶠ───────────×ᶠ           ×ᶠ───────────×ᶠ           │\n",
      "│    │            │            │            │            │\n",
      "@────@^V_3_5_2    ×ᶠ───────────×ᶠ           @────────────@^V_0_2_2\n",
      "│    │            │            │            │            │\n",
      "XXYY─XXYY^T_3_5_2 │            │            XXYY─────────XXYY^T_0_2_2\n",
      "│    │            │            │            │            │\n",
      "×ᶠ───×ᶠ           │            │            ×ᶠ───────────×ᶠ\n",
      "│    │            │            │            │            │\n",
      "│    @────────────@^V_1_5_2    @────────────@^V_0_4_2    │\n",
      "│    │            │            │            │            │\n",
      "│    XXYY─────────XXYY^T_1_5_2 XXYY─────────XXYY^T_0_4_2 │\n",
      "│    │            │            │            │            │\n",
      "│    ×ᶠ───────────×ᶠ           ×ᶠ───────────×ᶠ           │\n",
      "│    │            │            │            │            │\n",
      "@────@^V_1_3_2    ×ᶠ───────────×ᶠ           @────────────@^V_2_4_2\n",
      "│    │            │            │            │            │\n",
      "XXYY─XXYY^T_1_3_2 │            │            XXYY─────────XXYY^T_2_4_2\n",
      "│    │            │            │            │            │\n",
      "×ᶠ───×ᶠ           │            │            ×ᶠ───────────×ᶠ\n",
      "│    │            │            │            │            │\n",
      "│    ×ᶠ───────────×ᶠ           ×ᶠ───────────×ᶠ           │\n",
      "│    │            │            │            │            │\n",
      "@────@^V_0_1_2    @────────────@^V_2_3_2    @────────────@^V_4_5_2\n",
      "│    │            │            │            │            │\n",
      "XXYY─XXYY^T_0_1_2 XXYY─────────XXYY^T_2_3_2 XXYY─────────XXYY^T_4_5_2\n",
      "│    │            │            │            │            │\n",
      "×ᶠ───×ᶠ           ×ᶠ───────────×ᶠ           ×ᶠ───────────×ᶠ\n",
      "│    │            │            │            │            │\n",
      "\n"
     ]
    }
   ],
   "source": [
    "ansatz = ofc.SwapNetworkTrotterAnsatz(\n",
    "    hubbard_hamiltonian,\n",
    "    iterations=3)\n",
    "print(ansatz.circuit.to_text_diagram(transpose=True))"
   ]
  },
  {
   "cell_type": "markdown",
   "metadata": {},
   "source": [
    "Take another look at the Hubbard model Hamiltonian,\n",
    "$$\n",
    "H = - t \\sum_{\\langle i,j \\rangle}\n",
    "             (a^\\dagger_{i} a_{j} +\n",
    "              a^\\dagger_{j} a_{i})\n",
    "     + U \\sum_{\\langle i, j \\rangle} a^\\dagger_{i} a_{i}\n",
    "                  a^\\dagger_{j} a_{j}\n",
    "$$\n",
    "and notice that it conserves particle number. That is, each of its terms contains exactly as many creation operators as annihilation operators. This is equivalent to the statement that $H$ commutes with the *total occupation number operator*,\n",
    "$$\n",
    "\\sum_{j} a_j^\\dagger a_j\n",
    "$$\n",
    "\n",
    "When studying particle-number-conserving Hamiltonians, one can restrict attention to a particular eigenspace of the total occupation number operator, corresponding to states with a fixed, well-defined number of particles. Time evolution by the Hamiltonian will not bring states out of the eigenspace.\n",
    "\n",
    "In this example, we'll try to approximate the ground state energy of the Hamiltonian at 2 particles."
   ]
  },
  {
   "cell_type": "code",
   "execution_count": 8,
   "metadata": {},
   "outputs": [
    {
     "name": "stdout",
     "output_type": "stream",
     "text": [
      "-3.1231056256176655\n"
     ]
    }
   ],
   "source": [
    "n_electrons = 2\n",
    "\n",
    "# Compute the ground state energy at the specified number of electrons\n",
    "hamiltonian_sparse = of.get_sparse_operator(hubbard_model)\n",
    "true_ground_energy, _ = of.jw_get_ground_state_at_particle_number(\n",
    "    hamiltonian_sparse, n_electrons)\n",
    "\n",
    "print(true_ground_energy)"
   ]
  },
  {
   "cell_type": "markdown",
   "metadata": {},
   "source": [
    "Optimizing an ansatz requires creating a VariationalStudy object, which encapsulates the ansatz, the objective function, and state preparation circuit. Objective functions are represented by subclasses of the VariationalObjective class. Usually, one will simply create an instance of the HamiltonianObjective subclass. A VariationalStudy automatically saves all optimization runs performed and can be saved to and loaded from disk.\n",
    "\n",
    "Recall that the Hubbard model has the form of a DiagonalCoulombHamiltonian:\n",
    "$$\n",
    "\\sum_{pq} T_{pq} a_p^\\dagger a_q + \\sum_{pq} V_{pq} a_p^\\dagger a_p a_q^\\dagger a_q\n",
    "$$\n",
    "\n",
    "The one-body term by itself is a quadratic Hamiltonian; we'll use an eigenstate of it as our reference state. The `prepare_gaussian_state` function can be used to prepare eigenstates of quadratic Hamiltonians.\n",
    "\n",
    "The built-in ansatzes also feature a starting guess for the initial parameters which is inspired by the idea of state preparation by adiabatic evolution."
   ]
  },
  {
   "cell_type": "code",
   "execution_count": 9,
   "metadata": {},
   "outputs": [
    {
     "name": "stdout",
     "output_type": "stream",
     "text": [
      "Created a variational study with 54 parameters.\n",
      "\n",
      "The energy of the default initial guess is 1.653323771569472.\n",
      "\n",
      "The initial guess is:\n",
      "[ 0.18028137  0.72676046  0.18028137  0.72676046  0.18028137  0.72676046\n",
      "  0.18028137  0.72676046  0.18028137  0.72676046  0.18028137  0.72676046\n",
      "  0.18028137  0.72676046  0.18028137  0.72676046  0.18028137  0.72676046\n",
      "  0.18028137  0.18028137  0.18028137  0.18028137  0.18028137  0.18028137\n",
      "  0.18028137  0.18028137  0.18028137  0.18028137  0.18028137  0.18028137\n",
      "  0.18028137  0.18028137  0.18028137  0.18028137  0.18028137  0.18028137\n",
      "  0.18028137 -0.36619772  0.18028137 -0.36619772  0.18028137 -0.36619772\n",
      "  0.18028137 -0.36619772  0.18028137 -0.36619772  0.18028137 -0.36619772\n",
      "  0.18028137 -0.36619772  0.18028137 -0.36619772  0.18028137 -0.36619772]\n"
     ]
    }
   ],
   "source": [
    "# Use preparation circuit for eigenstate of one-body term\n",
    "preparation_circuit = cirq.Circuit.from_ops(\n",
    "    ofc.prepare_gaussian_state(\n",
    "        ansatz.qubits,\n",
    "        of.QuadraticHamiltonian(hubbard_hamiltonian.one_body),\n",
    "        occupied_orbitals=range(n_electrons)\n",
    "    )\n",
    ")\n",
    "\n",
    "# Define the objective function\n",
    "objective = ofc.HamiltonianObjective(hubbard_hamiltonian)\n",
    "\n",
    "# Create a variational study\n",
    "study = ofc.VariationalStudy(\n",
    "    name='hubbard_study',\n",
    "    ansatz=ansatz,\n",
    "    objective=objective,\n",
    "    preparation_circuit=preparation_circuit)\n",
    "\n",
    "print(\"Created a variational study with {} parameters.\".format(\n",
    "    study.num_params)\n",
    ")\n",
    "print()\n",
    "\n",
    "print(\"The energy of the default initial guess is {}.\".format(\n",
    "    study.value_of(ansatz.default_initial_params()))\n",
    ")\n",
    "print()\n",
    "\n",
    "print(\"The initial guess is:\")\n",
    "print(ansatz.default_initial_params())"
   ]
  },
  {
   "cell_type": "markdown",
   "metadata": {},
   "source": [
    "Performing an optimization run requires creating an OptimizationParams object. The most important part of this is the optimization algorithm to use."
   ]
  },
  {
   "cell_type": "code",
   "execution_count": 10,
   "metadata": {},
   "outputs": [
    {
     "name": "stdout",
     "output_type": "stream",
     "text": [
      "Optimized energy: -3.1048166845231027\n",
      "\n",
      "Optimized parameters:\n",
      "[ 1.10176866  0.9079445   0.18088205  1.76436972  0.22767709  1.59608786\n",
      "  0.13556406  0.66440617  0.14740382  0.6565388   0.38062588  0.76870222\n",
      "  0.25305662  0.48496756  0.18418796  0.85658855  0.08537626  0.70064499\n",
      "  0.2335307   0.0873193   0.18416921  1.421086    0.08689049  1.1715218\n",
      "  0.16307193  1.18230601  0.03200061  0.28494296  0.24487017  0.36966998\n",
      "  0.23818851 -0.171142    0.2479021   0.00337084  0.25920618  0.17142982\n",
      "  0.27410224 -0.32818709  0.18814917  0.24622833  0.26641112  0.57843257\n",
      "  0.22577714  0.83967355  0.23824114  0.81714914  0.24715815 -0.40711872\n",
      "  0.12783937  0.92890347  0.17162613  0.50291806  0.20984109 -0.39022718]\n"
     ]
    }
   ],
   "source": [
    "# Perform an optimization run.\n",
    "algorithm = ofc.optimization.ScipyOptimizationAlgorithm(\n",
    "    kwargs={'method': 'COBYLA'},\n",
    "    uses_bounds=False)\n",
    "optimization_params = ofc.optimization.OptimizationParams(\n",
    "    algorithm=algorithm,\n",
    "    initial_guess=ansatz.default_initial_params())\n",
    "result = study.optimize(optimization_params)\n",
    "\n",
    "print(\"Optimized energy: {}\".format(result.optimal_value))\n",
    "print()\n",
    "print(\"Optimized parameters:\")\n",
    "print(result.optimal_parameters)"
   ]
  },
  {
   "cell_type": "markdown",
   "metadata": {},
   "source": [
    "### Creating your own ansatz\n",
    "\n",
    "To demonstrate how to create and optimize your own ansatz, we will design an ansatz to compute the ground state energy of H2."
   ]
  },
  {
   "cell_type": "code",
   "execution_count": 11,
   "metadata": {},
   "outputs": [
    {
     "name": "stdout",
     "output_type": "stream",
     "text": [
      "-1.137270174660897\n"
     ]
    }
   ],
   "source": [
    "import openfermionpyscf as ofpyscf\n",
    "\n",
    "# Set molecule parameters\n",
    "geometry = [('H', (0.0, 0.0, 0.0)), ('H', (0.0, 0.0, 0.7414))]\n",
    "basis = 'sto-3g'\n",
    "multiplicity = 1\n",
    "charge = 0\n",
    "\n",
    "# Perform electronic structure calculations and\n",
    "# obtain Hamiltonian as an InteractionOperator\n",
    "hamiltonian = ofpyscf.generate_molecular_hamiltonian(\n",
    "    geometry, basis, multiplicity, charge)\n",
    "\n",
    "# Compute and print ground state energy\n",
    "ground_energy, _ = of.get_ground_state(\n",
    "    of.get_sparse_operator(hamiltonian))\n",
    "print(ground_energy)"
   ]
  },
  {
   "cell_type": "markdown",
   "metadata": {},
   "source": [
    "We'll use as our reference state the Hartree-Fock state, which in this case is simply\n",
    "$$\n",
    "\\lvert \\psi \\rangle = a^\\dagger_1 a^\\dagger_0 \\vert \\text{vac} \\rangle\n",
    "$$\n",
    "Under the JWT, this is equal to\n",
    "$$\n",
    "X_1 X_0 \\vert 0 0 0 0 \\rangle = \\vert 1 1 0 0 \\rangle\n",
    "$$\n",
    "It turns out that the ground state can be reached by applying a single-parameter unitary of the form\n",
    "$$\n",
    "\\exp (-i \\theta Y_3 X_2 X_1 X_0)\n",
    "$$\n",
    "\n",
    "First, let's define an ansatz to perform this unitary. We define an ansatz by subclassing VariationalAnsatz."
   ]
  },
  {
   "cell_type": "code",
   "execution_count": 12,
   "metadata": {},
   "outputs": [],
   "source": [
    "class MyAnsatz(ofc.VariationalAnsatz):\n",
    "\n",
    "    def params(self):\n",
    "        \"\"\"The parameters of the ansatz.\"\"\"\n",
    "        return [cirq.Symbol('theta_0')]\n",
    "\n",
    "    def operations(self, qubits):\n",
    "        \"\"\"Produce the operations of the ansatz circuit.\"\"\"\n",
    "        q0, q1, q2, q3 = qubits\n",
    "        yield cirq.H(q0), cirq.H(q1), cirq.H(q2)\n",
    "        yield cirq.RotXGate(half_turns=-0.5).on(q3)\n",
    "\n",
    "        yield cirq.CNOT(q0, q1), cirq.CNOT(q1, q2), cirq.CNOT(q2, q3)\n",
    "        yield cirq.RotZGate(half_turns=cirq.Symbol('theta_0')).on(q3)\n",
    "        yield cirq.CNOT(q2, q3), cirq.CNOT(q1, q2), cirq.CNOT(q0, q1)\n",
    "\n",
    "        yield cirq.H(q0), cirq.H(q1), cirq.H(q2)\n",
    "        yield cirq.RotXGate(half_turns=0.5).on(q3)\n",
    "\n",
    "    def _generate_qubits(self):\n",
    "        \"\"\"Produce qubits that can be used by the ansatz circuit.\"\"\"\n",
    "        return cirq.LineQubit.range(4)"
   ]
  },
  {
   "cell_type": "code",
   "execution_count": 13,
   "metadata": {
    "scrolled": true
   },
   "outputs": [
    {
     "name": "stdout",
     "output_type": "stream",
     "text": [
      "0: ───H────────@───────────────────────────────────@───H───\n",
      "               │                                   │\n",
      "1: ───H────────X───@───────────────────────@───────X───H───\n",
      "                   │                       │\n",
      "2: ───H────────────X───@───────────────@───X───────H───────\n",
      "                       │               │\n",
      "3: ───X^-0.5───────────X───Z^theta_0───X───X^0.5───────────\n"
     ]
    }
   ],
   "source": [
    "ansatz = MyAnsatz()\n",
    "print(ansatz.circuit)"
   ]
  },
  {
   "cell_type": "markdown",
   "metadata": {},
   "source": [
    "Now let's create a variational study."
   ]
  },
  {
   "cell_type": "code",
   "execution_count": 14,
   "metadata": {},
   "outputs": [
    {
     "name": "stdout",
     "output_type": "stream",
     "text": [
      "0: ───X───H────────@───────────────────────────────────@───H───\n",
      "                   │                                   │\n",
      "1: ───X───H────────X───@───────────────────────@───────X───H───\n",
      "                       │                       │\n",
      "2: ───────H────────────X───@───────────────@───X───────H───────\n",
      "                           │               │\n",
      "3: ───────X^-0.5───────────X───Z^theta_0───X───X^0.5───────────\n"
     ]
    }
   ],
   "source": [
    "# Define the objective function\n",
    "objective = ofc.HamiltonianObjective(hamiltonian)\n",
    "\n",
    "# Create preparation circuit\n",
    "q0, q1, _, _ = ansatz.qubits\n",
    "preparation_circuit = cirq.Circuit.from_ops(cirq.X(q0), cirq.X(q1))\n",
    "\n",
    "# Create variational study\n",
    "study = ofc.VariationalStudy(\n",
    "    name='my_hydrogen_study',\n",
    "    ansatz=ansatz,\n",
    "    objective=objective,\n",
    "    preparation_circuit=preparation_circuit)\n",
    "\n",
    "print(study.circuit)"
   ]
  },
  {
   "cell_type": "markdown",
   "metadata": {},
   "source": [
    "Finally, let's optimize the parameters."
   ]
  },
  {
   "cell_type": "code",
   "execution_count": 15,
   "metadata": {},
   "outputs": [
    {
     "name": "stdout",
     "output_type": "stream",
     "text": [
      "Value of initial guess: -1.1219899918382532\n",
      "Optimized value: -1.1372701746608995\n"
     ]
    }
   ],
   "source": [
    "# Choose an initial guess\n",
    "initial_guess = [0.01]\n",
    "print('Value of initial guess: {}'.format(study.value_of(initial_guess)))\n",
    "\n",
    "# Choose an algorithm\n",
    "algorithm = ofc.optimization.ScipyOptimizationAlgorithm(\n",
    "    kwargs={'method': 'L-BFGS-B'},\n",
    "    options={'maxiter': 100})\n",
    "\n",
    "# Create OptimizationParams object\n",
    "optimization_params = ofc.optimization.OptimizationParams(\n",
    "    algorithm=algorithm,\n",
    "    initial_guess=initial_guess)\n",
    "\n",
    "# Run optimization\n",
    "result = study.optimize(optimization_params)\n",
    "print('Optimized value: {}'.format(result.optimal_value))"
   ]
  },
  {
   "cell_type": "markdown",
   "metadata": {},
   "source": [
    "## Circuit primitives (building blocks)\n",
    "\n",
    "The algorithms in OpenFermion-Cirq use common circuit primitives which are very useful for constructing low-depth circuits for quantum simulation. In this section we explain these primitives and how to use them.\n",
    "\n",
    "### Swap network\n",
    "\n",
    "- Method for applying arbitrary pairwise interactions between qubits or fermionic modes in linear depth using linear connectivity.\n",
    "- Uses a parallelized network of swap gates to reverse the order of qubits.\n",
    "- Pairwise operations are applied when the appropriate logical qubits become adjacent.\n",
    "- Introduced by [arXiv:1711.04789](https://arxiv.org/pdf/1711.04789.pdf)"
   ]
  },
  {
   "cell_type": "code",
   "execution_count": 16,
   "metadata": {},
   "outputs": [
    {
     "name": "stdout",
     "output_type": "stream",
     "text": [
      "0 1 2 3 4\n",
      "│ │ │ │ │\n",
      "×─× ×─× │\n",
      "│ │ │ │ │\n",
      "│ ×─× ×─×\n",
      "│ │ │ │ │\n",
      "×─× ×─× │\n",
      "│ │ │ │ │\n",
      "│ ×─× ×─×\n",
      "│ │ │ │ │\n",
      "×─× ×─× │\n",
      "│ │ │ │ │\n",
      "\n"
     ]
    }
   ],
   "source": [
    "qubits = cirq.LineQubit.range(5)\n",
    "circuit = cirq.Circuit.from_ops(ofc.swap_network(qubits))\n",
    "\n",
    "print(circuit.to_text_diagram(transpose=True))"
   ]
  },
  {
   "cell_type": "code",
   "execution_count": 17,
   "metadata": {},
   "outputs": [
    {
     "name": "stdout",
     "output_type": "stream",
     "text": [
      "0 1          2          3          4\n",
      "│ │          │          │          │\n",
      "@─@^theta_01 @──────────@^theta_23 │\n",
      "│ │          │          │          │\n",
      "×─×          ×──────────×          │\n",
      "│ │          │          │          │\n",
      "│ @──────────@^theta_03 @──────────@^theta_24\n",
      "│ │          │          │          │\n",
      "│ ×──────────×          ×──────────×\n",
      "│ │          │          │          │\n",
      "@─@^theta_13 @──────────@^theta_04 │\n",
      "│ │          │          │          │\n",
      "×─×          ×──────────×          │\n",
      "│ │          │          │          │\n",
      "│ @──────────@^theta_14 @──────────@^theta_02\n",
      "│ │          │          │          │\n",
      "│ ×──────────×          ×──────────×\n",
      "│ │          │          │          │\n",
      "@─@^theta_34 @──────────@^theta_12 │\n",
      "│ │          │          │          │\n",
      "×─×          ×──────────×          │\n",
      "│ │          │          │          │\n",
      "\n"
     ]
    }
   ],
   "source": [
    "def cz_interaction(i, j, a, b):\n",
    "    return cirq.Rot11Gate(half_turns=cirq.Symbol('theta_{}{}'.format(i, j))).on(a, b)\n",
    "\n",
    "circuit = cirq.Circuit.from_ops(\n",
    "    ofc.swap_network(qubits, cz_interaction),\n",
    "    strategy=cirq.InsertStrategy.EARLIEST)\n",
    "\n",
    "print(circuit.to_text_diagram(transpose=True))"
   ]
  },
  {
   "cell_type": "code",
   "execution_count": 18,
   "metadata": {},
   "outputs": [
    {
     "name": "stdout",
     "output_type": "stream",
     "text": [
      "0    1    2    3    4\n",
      "│    │    │    │    │\n",
      "XXYY─XXYY XXYY─XXYY │\n",
      "│    │    │    │    │\n",
      "×ᶠ───×ᶠ   ×ᶠ───×ᶠ   │\n",
      "│    │    │    │    │\n",
      "│    @────@    @────@\n",
      "│    │    │    │    │\n",
      "│    ×ᶠ───×ᶠ   ×ᶠ───×ᶠ\n",
      "│    │    │    │    │\n",
      "@────@    @────@    │\n",
      "│    │    │    │    │\n",
      "×ᶠ───×ᶠ   ×ᶠ───×ᶠ   │\n",
      "│    │    │    │    │\n",
      "│    @────@    @────@\n",
      "│    │    │    │    │\n",
      "│    ×ᶠ───×ᶠ   ×ᶠ───×ᶠ\n",
      "│    │    │    │    │\n",
      "XXYY─XXYY XXYY─XXYY │\n",
      "│    │    │    │    │\n",
      "×ᶠ───×ᶠ   ×ᶠ───×ᶠ   │\n",
      "│    │    │    │    │\n",
      "\n"
     ]
    }
   ],
   "source": [
    "circuit = cirq.Circuit.from_ops(\n",
    "    ofc.swap_network(\n",
    "        qubits,\n",
    "        lambda i, j, a, b: ofc.XXYY(a, b) if abs(i-j) == 1\n",
    "                           else cirq.CZ(a, b),\n",
    "        fermionic=True),\n",
    "    strategy=cirq.InsertStrategy.EARLIEST)\n",
    "print(circuit.to_text_diagram(transpose=True))"
   ]
  },
  {
   "cell_type": "markdown",
   "metadata": {},
   "source": [
    "As an example use case, we will use a swap network to simulate the dynamics of a fully-connected Ising model Hamiltonian\n",
    "$$\n",
    "H = \\sum_{ij} J_{ij} Z_i Z_j\n",
    "$$\n",
    "\n",
    "First, let's generate a random Ising model Hamiltonian as a QubitOperator."
   ]
  },
  {
   "cell_type": "code",
   "execution_count": 19,
   "metadata": {},
   "outputs": [
    {
     "name": "stdout",
     "output_type": "stream",
     "text": [
      "0.16518371027018444 [Z0 Z1] +\n",
      "0.8991964637134117 [Z0 Z2] +\n",
      "0.8090460084237492 [Z0 Z3] +\n",
      "0.09825423160650269 [Z0 Z4] +\n",
      "-0.888023316687039 [Z1 Z2] +\n",
      "-0.8253222167707652 [Z1 Z3] +\n",
      "1.1780366055294307 [Z1 Z4] +\n",
      "-1.0923635176032285 [Z2 Z3] +\n",
      "0.41831704437596656 [Z2 Z4] +\n",
      "0.4572184660768701 [Z3 Z4]\n"
     ]
    }
   ],
   "source": [
    "import openfermion as of\n",
    "import itertools\n",
    "import numpy as np\n",
    "\n",
    "n_qubits = 5\n",
    "\n",
    "ising_model = of.QubitOperator()\n",
    "\n",
    "for i, j in itertools.combinations(range(n_qubits), 2):\n",
    "    ising_model += of.QubitOperator(((i, 'Z'), (j, 'Z')), np.random.randn())\n",
    "\n",
    "print(ising_model)"
   ]
  },
  {
   "cell_type": "markdown",
   "metadata": {},
   "source": [
    "Now let's create a random initial state and apply $\\exp(-i H t)$ to it, for $t=1$."
   ]
  },
  {
   "cell_type": "code",
   "execution_count": 20,
   "metadata": {},
   "outputs": [],
   "source": [
    "# Create a random initial state\n",
    "initial_state = of.haar_random_vector(2**n_qubits)\n",
    "\n",
    "# Convert Hamiltonian to sparse matrix\n",
    "ising_sparse = of.get_sparse_operator(ising_model)\n",
    "\n",
    "# Set evolution time\n",
    "time = 1.0\n",
    "\n",
    "# Apply exp(-i H t) to the state\n",
    "final_state = expm_multiply(-1j*ising_sparse*time, initial_state)"
   ]
  },
  {
   "cell_type": "markdown",
   "metadata": {},
   "source": [
    "If `initial_state` is $\\lvert \\psi \\rangle$, then `final_state` is now $\\exp(-i H t) \\lvert \\psi \\rangle$.\n",
    "\n",
    "### Exercise\n",
    "\n",
    "Fill in the code cell below to construct a circuit which applies $\\exp(-i H t)$ using a swap network. Note the following:\n",
    "- You'll want to use the `ofc.ZZGate` gate. The most convenient way to initialize it in this case is to use the `duration` argument.\n",
    "- A swap network reverses the order of qubits. Therefore, to get the circuit to simulate properly, you'll need to swap the qubits back with another swap network. In a real experiment we would just keep track of the qubit order instead of performing these extra swaps."
   ]
  },
  {
   "cell_type": "code",
   "execution_count": 21,
   "metadata": {},
   "outputs": [
    {
     "name": "stdout",
     "output_type": "stream",
     "text": [
      "0.02916386574845472\n"
     ]
    }
   ],
   "source": [
    "# Initialize qubits\n",
    "qubits = cirq.LineQubit.range(n_qubits)\n",
    "\n",
    "# Write code below to create the circuit\n",
    "# You should define the `circuit` variable here\n",
    "# ---------------------------------------------\n",
    "\n",
    "\n",
    "# ---------------------------------------------\n",
    "\n",
    "# Apply the circuit to the initial state\n",
    "result = circuit.apply_unitary_effect_to_state(initial_state)\n",
    "\n",
    "# Compute the fidelity with the correct final state\n",
    "fidelity = abs(np.dot(final_state, result.conj()))**2\n",
    "\n",
    "# Print fidelity; it should be 1\n",
    "print(fidelity)"
   ]
  },
  {
   "cell_type": "markdown",
   "metadata": {},
   "source": [
    "### Bogoliubov transformation\n",
    "\n",
    "- Single-particle orbital basis change\n",
    "- In the particle-conserving case, takes the form\n",
    "$$\n",
    "U a_p^\\dagger U^\\dagger = b_p^\\dagger, \\quad b_p^\\dagger = \\sum_{q} u_{pq} a_q^\\dagger\n",
    "$$\n",
    "and $u$ is unitary.\n",
    "- Can be used to diagonalize any quadratic Hamiltonian:\n",
    "$$\n",
    "\\sum_{p, q} T_{pq} a_p^\\dagger a_q \\mapsto \\sum_{j} \\varepsilon_j b_j^\\dagger b_j + \\text{constant}\n",
    "$$\n",
    "- Implementation from [arXiv:1711.05395](https://arxiv.org/pdf/1711.05395.pdf); uses linear depth and linear connectivity\n",
    "\n",
    "As an example, we'll prepare the ground state of a random particle-conserving quadratic Hamiltonian"
   ]
  },
  {
   "cell_type": "code",
   "execution_count": 22,
   "metadata": {},
   "outputs": [
    {
     "name": "stdout",
     "output_type": "stream",
     "text": [
      "1.690525703800356 [] +\n",
      "(0.5315776978980016+0j) [0^ 0] +\n",
      "(-1.347208023348913+2.7004721387490935j) [0^ 1] +\n",
      "(-0.28362365442898696-1.8784499457335426j) [0^ 2] +\n",
      "(0.12594647819298657-1.3106154125325498j) [0^ 3] +\n",
      "(-0.3880303291443195-1.1751249212322041j) [0^ 4] +\n",
      "(-1.347208023348913-2.7004721387490935j) [1^ 0] +\n",
      "(2.5012533818678193+0j) [1^ 1] +\n",
      "(0.3391421007279024-3.8305756810505094j) [1^ 2] +\n",
      "(-0.3509690502067961+0.090677856754656j) [1^ 3] +\n",
      "(1.8575239595653907-1.4736314761076197j) [1^ 4] +\n",
      "(-0.28362365442898696+1.8784499457335426j) [2^ 0] +\n",
      "(0.3391421007279024+3.8305756810505094j) [2^ 1] +\n",
      "(-0.019560786804260433+0j) [2^ 2] +\n",
      "(-2.979765944360631+2.5490724453105917j) [2^ 3] +\n",
      "(0.5091942820312417+0.344618218148502j) [2^ 4] +\n",
      "(0.12594647819298657+1.3106154125325498j) [3^ 0] +\n",
      "(-0.3509690502067961-0.090677856754656j) [3^ 1] +\n",
      "(-2.979765944360631-2.5490724453105917j) [3^ 2] +\n",
      "(3.767336752913784+0j) [3^ 3] +\n",
      "(-1.2963431636902167-1.5288970105744286j) [3^ 4] +\n",
      "(-0.3880303291443195+1.1751249212322041j) [4^ 0] +\n",
      "(1.8575239595653907+1.4736314761076197j) [4^ 1] +\n",
      "(0.5091942820312417-0.344618218148502j) [4^ 2] +\n",
      "(-1.2963431636902167+1.5288970105744286j) [4^ 3] +\n",
      "(-0.3445183403145406+0j) [4^ 4]\n"
     ]
    }
   ],
   "source": [
    "n_qubits = 5\n",
    "quad_ham = of.random_quadratic_hamiltonian(\n",
    "    n_qubits, conserves_particle_number=True, seed=7)\n",
    "\n",
    "print(of.get_fermion_operator(quad_ham))"
   ]
  },
  {
   "cell_type": "markdown",
   "metadata": {},
   "source": [
    "Now we construct a circuit which maps computational basis states to eigenstates of the Hamiltonian."
   ]
  },
  {
   "cell_type": "code",
   "execution_count": 23,
   "metadata": {},
   "outputs": [
    {
     "name": "stdout",
     "output_type": "stream",
     "text": [
      "0     1        2        3        4\n",
      "│     │        │        │        │\n",
      "Z^0.0 Z^0.0    Z        Z        Z^-3.33e-16\n",
      "│     │        │        │        │\n",
      "│     │        │        YXXY─────#2^0.0727\n",
      "│     │        │        │        │\n",
      "│     │        YXXY─────#2^0.455 Z^-0.777\n",
      "│     │        │        │        │\n",
      "│     YXXY─────#2^0.814 Z^-0.508 │\n",
      "│     │        │        │        │\n",
      "│     │        Z^-0.304 YXXY─────#2^0.381\n",
      "│     │        │        │        │\n",
      "YXXY──#2^0.703 │        │        Z^0.401\n",
      "│     │        │        │        │\n",
      "│     Z^-0.767 YXXY─────#2^0.813 │\n",
      "│     │        │        │        │\n",
      "│     YXXY─────#2^0.636 Z^-0.928 │\n",
      "│     │        │        │        │\n",
      "│     │        Z^0.393  YXXY─────#2^0.481\n",
      "│     │        │        │        │\n",
      "│     │        YXXY─────#2^0.422 Z^-0.738\n",
      "│     │        │        │        │\n",
      "│     │        │        Z^-0.824 │\n",
      "│     │        │        │        │\n",
      "│     │        │        YXXY─────#2^0.506\n",
      "│     │        │        │        │\n",
      "│     │        │        │        Z^0.715\n",
      "│     │        │        │        │\n",
      "\n"
     ]
    }
   ],
   "source": [
    "circuit = cirq.Circuit.from_ops(\n",
    "    ofc.bogoliubov_transform(\n",
    "        qubits,\n",
    "        quad_ham.diagonalizing_bogoliubov_transform()))\n",
    "\n",
    "print(circuit.to_text_diagram(transpose=True))"
   ]
  },
  {
   "cell_type": "markdown",
   "metadata": {},
   "source": [
    "In the rotated basis, the quadratic Hamiltonian takes the form\n",
    "$$\n",
    "H = \\sum_j \\varepsilon_j b_j^\\dagger b_j + \\text{constant}\n",
    "$$\n",
    "We can get the $\\varepsilon_j$ and the constant using the `orbital_energies` method of QuadraticHamiltonian."
   ]
  },
  {
   "cell_type": "code",
   "execution_count": 24,
   "metadata": {},
   "outputs": [
    {
     "name": "stdout",
     "output_type": "stream",
     "text": [
      "[-6.25377614 -1.2291963   0.71202361  5.0062515   8.20078604]\n",
      "1.690525703800356\n"
     ]
    }
   ],
   "source": [
    "orbital_energies, constant = quad_ham.orbital_energies()\n",
    "\n",
    "print(orbital_energies)\n",
    "print(constant)"
   ]
  },
  {
   "cell_type": "markdown",
   "metadata": {},
   "source": [
    "The ground state of the Hamiltonian is prepared by filling in the orbitals with negative energy."
   ]
  },
  {
   "cell_type": "code",
   "execution_count": 25,
   "metadata": {},
   "outputs": [
    {
     "name": "stdout",
     "output_type": "stream",
     "text": [
      "(-5.792446738060052-1.1102230246251565e-16j)\n",
      "-5.792446738060046\n"
     ]
    }
   ],
   "source": [
    "# Apply the circuit with initial state having the first two modes occupied.\n",
    "result = circuit.apply_unitary_effect_to_state(0b11000)\n",
    "\n",
    "# Compute the expectation value of the final state with the Hamiltonian\n",
    "quad_ham_sparse = of.get_sparse_operator(quad_ham)\n",
    "print(of.expectation(quad_ham_sparse, result))\n",
    "\n",
    "# Print out the ground state energy; it should match\n",
    "print(quad_ham.ground_energy())"
   ]
  },
  {
   "cell_type": "markdown",
   "metadata": {},
   "source": [
    "Recall that the Jordan-Wigner transform of $b_j^\\dagger b_j$ is $\\frac12(I-Z)$. Therefore, $\\exp(-i \\varepsilon_j b_j^\\dagger b_j)$ is equivalent to a single-qubit Z rotation under the JWT. Since the operators $b_j^\\dagger b_j$ commute, we have\n",
    "$$\n",
    "\\exp(-i H t) = \\exp(-i \\sum_j \\varepsilon_j b_j^\\dagger b_j t)\n",
    "= \\prod_j \\exp(-i \\varepsilon_j b_j^\\dagger b_j t)\n",
    "$$\n",
    "This gives a method for simulating time evolution under a quadratic Hamiltonian:\n",
    "- Use a Bogoliubov transformation to change to the basis in which the Hamiltonian is diagonal (Note: this transformation might be the inverse of what you expect. In that case, use `cirq.inverse`)\n",
    "- Apply single-qubit Z-rotations with angles proportional to the orbital energies\n",
    "- Undo the basis change\n",
    "\n",
    "The code cell below creates a random initial state and applies time evolution by direct matrix exponentiation."
   ]
  },
  {
   "cell_type": "code",
   "execution_count": 26,
   "metadata": {},
   "outputs": [],
   "source": [
    "# Create a random initial state\n",
    "initial_state = of.haar_random_vector(2**n_qubits)\n",
    "\n",
    "# Set evolution time\n",
    "time = 1.0\n",
    "\n",
    "# Apply exp(-i H t) to the state\n",
    "final_state = expm_multiply(-1j*quad_ham_sparse*time, initial_state)"
   ]
  },
  {
   "cell_type": "markdown",
   "metadata": {},
   "source": [
    "### Exercise\n",
    "\n",
    "Fill in the code cell below to construct a circuit which applies $\\exp(-i H t)$ using the method described above"
   ]
  },
  {
   "cell_type": "code",
   "execution_count": 27,
   "metadata": {},
   "outputs": [
    {
     "name": "stdout",
     "output_type": "stream",
     "text": [
      "0.08926042490120051\n"
     ]
    }
   ],
   "source": [
    "# Initialize qubits\n",
    "qubits = cirq.LineQubit.range(n_qubits)\n",
    "\n",
    "# Write code below to create the circuit\n",
    "# You should define the `circuit` variable here\n",
    "# ---------------------------------------------\n",
    "\n",
    "\n",
    "# ---------------------------------------------\n",
    "\n",
    "# Apply the circuit to the initial state\n",
    "result = circuit.apply_unitary_effect_to_state(initial_state)\n",
    "\n",
    "# Compute the fidelity with the correct final state\n",
    "fidelity = abs(np.dot(final_state, result.conj()))**2\n",
    "\n",
    "# Print fidelity; it should be 1\n",
    "print(fidelity)"
   ]
  },
  {
   "cell_type": "markdown",
   "metadata": {},
   "source": [
    "## Solutions to exercises"
   ]
  },
  {
   "cell_type": "code",
   "execution_count": 28,
   "metadata": {},
   "outputs": [
    {
     "name": "stdout",
     "output_type": "stream",
     "text": [
      "0.008334497743611877\n"
     ]
    }
   ],
   "source": [
    "# Initialize qubits\n",
    "qubits = cirq.LineQubit.range(n_qubits)\n",
    "\n",
    "# Write code below to create the circuit\n",
    "# You should define the `circuit` variable here\n",
    "# ---------------------------------------------\n",
    "def zz_interaction(i, j, a, b):\n",
    "    return ofc.ZZGate(duration=ising_model.terms[(i, 'Z'), (j, 'Z')]).on(a, b)\n",
    "circuit = cirq.Circuit.from_ops(ofc.swap_network(qubits, zz_interaction))\n",
    "circuit.append(ofc.swap_network(qubits))\n",
    "# ---------------------------------------------\n",
    "\n",
    "# Apply the circuit to the initial state\n",
    "result = circuit.apply_unitary_effect_to_state(initial_state)\n",
    "\n",
    "# Compute the fidelity with the correct final state\n",
    "fidelity = abs(np.dot(final_state, result.conj()))**2\n",
    "\n",
    "# Print fidelity; it should be 1\n",
    "print(fidelity)"
   ]
  },
  {
   "cell_type": "code",
   "execution_count": 29,
   "metadata": {},
   "outputs": [
    {
     "name": "stdout",
     "output_type": "stream",
     "text": [
      "0.9999999999999938\n"
     ]
    }
   ],
   "source": [
    "# Initialize qubits\n",
    "qubits = cirq.LineQubit.range(n_qubits)\n",
    "\n",
    "# Write code below to create the circuit\n",
    "# You should define the `circuit` variable here\n",
    "# ---------------------------------------------\n",
    "def exponentiate_quad_ham(qubits, quad_ham):\n",
    "    basis_change_matrix = quad_ham.diagonalizing_bogoliubov_transform()\n",
    "    orbital_energies, _ = quad_ham.orbital_energies()\n",
    "    \n",
    "    yield cirq.inverse(\n",
    "        ofc.bogoliubov_transform(qubits, basis_change_matrix))\n",
    "    for i in range(len(qubits)):\n",
    "        yield cirq.RotZGate(rads=-orbital_energies[i]).on(qubits[i])\n",
    "    yield ofc.bogoliubov_transform(qubits, basis_change_matrix)\n",
    "\n",
    "circuit = cirq.Circuit.from_ops(exponentiate_quad_ham(qubits, quad_ham))\n",
    "# ---------------------------------------------\n",
    "\n",
    "# Apply the circuit to the initial state\n",
    "result = circuit.apply_unitary_effect_to_state(initial_state)\n",
    "\n",
    "# Compute the fidelity with the correct final state\n",
    "fidelity = abs(np.dot(final_state, result.conj()))**2\n",
    "\n",
    "# Print fidelity; it should be 1\n",
    "print(fidelity)"
   ]
  }
 ],
 "metadata": {
  "kernelspec": {
   "display_name": "Python 3",
   "language": "python",
   "name": "python3"
  },
  "language_info": {
   "codemirror_mode": {
    "name": "ipython",
    "version": 3
   },
   "file_extension": ".py",
   "mimetype": "text/x-python",
   "name": "python",
   "nbconvert_exporter": "python",
   "pygments_lexer": "ipython3",
   "version": "3.6.6"
  }
 },
 "nbformat": 4,
 "nbformat_minor": 2
}
