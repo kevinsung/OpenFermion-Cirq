{
 "cells": [
  {
   "cell_type": "markdown",
   "metadata": {},
   "source": [
    "# Tutorial\n",
    "\n",
    "In this tutorial, we will generate a jellium model Hamiltonian, prepare a mean-field state of this model, and perform time evolution via a Trotter-Suzuki product formula using two different methods.\n",
    "\n",
    "## Model generation\n",
    "\n",
    "We begin by generating a jellium model in the \"plane wave dual basis\"."
   ]
  },
  {
   "cell_type": "code",
   "execution_count": 1,
   "metadata": {},
   "outputs": [
    {
     "name": "stdout",
     "output_type": "stream",
     "text": [
      "19.739208802178716 [0^ 0] +\n",
      "-9.869604401089358 [0^ 2] +\n",
      "-0.07957747154594767 [0^ 0 2^ 2] +\n",
      "-9.869604401089358 [0^ 1] +\n",
      "-0.07957747154594766 [0^ 0 1^ 1] +\n",
      "-0.238732414637843 [0^ 0 3^ 3] +\n",
      "-9.869604401089358 [2^ 0] +\n",
      "-0.07957747154594767 [2^ 2 0^ 0] +\n",
      "19.739208802178716 [2^ 2] +\n",
      "-0.238732414637843 [2^ 2 1^ 1] +\n",
      "-9.869604401089358 [2^ 3] +\n",
      "-0.07957747154594766 [2^ 2 3^ 3] +\n",
      "-9.869604401089358 [1^ 0] +\n",
      "-0.07957747154594766 [1^ 1 0^ 0] +\n",
      "-0.238732414637843 [1^ 1 2^ 2] +\n",
      "19.739208802178716 [1^ 1] +\n",
      "-9.869604401089358 [1^ 3] +\n",
      "-0.07957747154594767 [1^ 1 3^ 3] +\n",
      "-0.238732414637843 [3^ 3 0^ 0] +\n",
      "-9.869604401089358 [3^ 2] +\n",
      "-0.07957747154594766 [3^ 3 2^ 2] +\n",
      "-9.869604401089358 [3^ 1] +\n",
      "-0.07957747154594767 [3^ 3 1^ 1] +\n",
      "19.739208802178716 [3^ 3]\n"
     ]
    }
   ],
   "source": [
    "import openfermion\n",
    "\n",
    "# Set parameters of jellium model\n",
    "dimensions = 2\n",
    "grid_length = 2\n",
    "scale = 1.0\n",
    "spinless = True\n",
    "\n",
    "# Construct the model\n",
    "grid = openfermion.Grid(dimensions, grid_length, scale)\n",
    "model = openfermion.jellium_model(\n",
    "    grid, spinless=spinless, plane_wave=False)\n",
    "\n",
    "print(model)"
   ]
  },
  {
   "cell_type": "markdown",
   "metadata": {},
   "source": [
    "As is evident from the printed output, the jellium model has the form\n",
    "\n",
    "$$\\sum_{p, q} T_{pq} a^\\dagger_p a_q + \\sum_{p, q} V_{pq} a^\\dagger_p a_p a^\\dagger_q a_q$$\n",
    "\n",
    "in the plane wave dual basis. This expression contains $O(N^2)$ terms, in contrast to the $O(N^4)$ terms of the general electronic structure Hamiltonian. The Hamiltonian simulation algorithms in OpenFermion-Cirq are implemented specifically for Hamiltonians of this form. They take as input the OpenFermion data structure DiagonalCoulombHamiltonian, which represents such a Hamiltonian by storing the matrices $T_{pq}$, which describes one-body interactions, and $V_{pq}$, which describes two-body interactions.\n",
    "\n",
    "Let's convert our model to an instance of DiagonalCoulombHamiltonian."
   ]
  },
  {
   "cell_type": "code",
   "execution_count": 2,
   "metadata": {},
   "outputs": [
    {
     "name": "stdout",
     "output_type": "stream",
     "text": [
      "[[19.7392088+0.j -9.8696044+0.j -9.8696044+0.j  0.       +0.j]\n",
      " [-9.8696044+0.j 19.7392088+0.j  0.       +0.j -9.8696044+0.j]\n",
      " [-9.8696044+0.j  0.       +0.j 19.7392088+0.j -9.8696044+0.j]\n",
      " [ 0.       +0.j -9.8696044+0.j -9.8696044+0.j 19.7392088+0.j]]\n",
      "\n",
      "[[ 0.         -0.07957747 -0.07957747 -0.23873241]\n",
      " [-0.07957747  0.         -0.23873241 -0.07957747]\n",
      " [-0.07957747 -0.23873241  0.         -0.07957747]\n",
      " [-0.23873241 -0.07957747 -0.07957747  0.        ]]\n"
     ]
    }
   ],
   "source": [
    "hamiltonian = openfermion.get_diagonal_coulomb_hamiltonian(model)\n",
    "\n",
    "print(hamiltonian.one_body)\n",
    "print()\n",
    "print(hamiltonian.two_body)"
   ]
  },
  {
   "cell_type": "markdown",
   "metadata": {},
   "source": [
    "## State preparation\n",
    "\n",
    "To begin our simulation we will prepare a mean-field state, which is an eigenstate of the one-body term $\\sum_{p, q} T_{pq} a^\\dagger_p a_q$. This term is a quadratic Hamiltonian, so its eigenstates can be prepared by applying a Bogoliubov transformation to a computational basis (Fock) state. The Bogoliubov transformation changes the basis to one in which the quadratic Hamiltonian has the diagonal form $\\sum_{p} \\varepsilon_p b^\\dagger_p b_p$, where the $b^\\dagger_p$ are the creation operators for a new set of orbitals. We'll set the number of electrons to be half the total number of orbitals.\n",
    "\n",
    "We'll use the OpenFermion class QuadraticHamiltonian to obtain the Bogoliubov transformation matrix. Then, we'll initialize some qubits and create a circuit that applies the transformation to these qubits. Since our algorithms work on a computer architecture with linear qubit connectivity, we'll use the `LineQubit` class."
   ]
  },
  {
   "cell_type": "code",
   "execution_count": 3,
   "metadata": {
    "scrolled": true
   },
   "outputs": [
    {
     "name": "stdout",
     "output_type": "stream",
     "text": [
      "0: ────────────────YXXY^-1.0────────────────────────────────────\n",
      "                   │\n",
      "1: ───YXXY^0.667───#2──────────Z^0.0─────────YXXY^0.5───────────\n",
      "      │                                      │\n",
      "2: ───#2───────────Z^0.0───────YXXY^-0.392───#2─────────Z^0.0───\n",
      "                               │\n",
      "3: ────────────────────────────#2────────────Z^0.0──────────────\n"
     ]
    }
   ],
   "source": [
    "# Initialize a computational basis state at half filling\n",
    "filling_fraction = 0.5\n",
    "n_modes = grid_length**dimensions * (2 - spinless)\n",
    "n_electrons = int(filling_fraction * n_modes)\n",
    "initial_state = int('1' * n_electrons + '0' * (n_modes - n_electrons),\n",
    "                    base=2)\n",
    "\n",
    "# Obtain the Bogoliubov transformation matrix\n",
    "quad_ham = openfermion.QuadraticHamiltonian(hamiltonian.one_body)\n",
    "transformation_matrix = quad_ham.diagonalizing_bogoliubov_transform()\n",
    "\n",
    "# Create a circuit that prepares the mean-field state\n",
    "import cirq\n",
    "import openfermioncirq\n",
    "\n",
    "qubits = cirq.LineQubit.range(n_modes)\n",
    "state_preparation_circuit = cirq.Circuit.from_ops(\n",
    "    openfermioncirq.bogoliubov_transform(\n",
    "        qubits, transformation_matrix, initial_state=initial_state)\n",
    ")\n",
    "\n",
    "print(state_preparation_circuit)"
   ]
  },
  {
   "cell_type": "markdown",
   "metadata": {},
   "source": [
    "Let's get rid of those pointless 0-degree Z-rotations by performing an optimization pass."
   ]
  },
  {
   "cell_type": "code",
   "execution_count": 4,
   "metadata": {},
   "outputs": [
    {
     "name": "stdout",
     "output_type": "stream",
     "text": [
      "0: ────────────────YXXY^-1.0────────────────────────────\n",
      "                   │\n",
      "1: ───YXXY^0.667───#2────────────────────────YXXY^0.5───\n",
      "      │                                      │\n",
      "2: ───#2───────────────────────YXXY^-0.392───#2─────────\n",
      "                               │\n",
      "3: ────────────────────────────#2───────────────────────\n"
     ]
    }
   ],
   "source": [
    "def optimize_circuit(circuit):\n",
    "    cirq.DropNegligible().optimize_circuit(circuit)\n",
    "\n",
    "optimize_circuit(state_preparation_circuit)\n",
    "\n",
    "print(state_preparation_circuit)"
   ]
  },
  {
   "cell_type": "markdown",
   "metadata": {},
   "source": [
    "## Hamiltonian simulation via a Trotter-Suzuki product formula\n",
    "\n",
    "The goal of Hamiltonian time evolution simulation is to apply the unitary operator $\\exp(-i H t)$ for some time t. A simulation via a product formula proceeds by dividing the total evolution time $t$ into a finite number of steps $r$ and performing an approximate simulation of $\\exp(-i H t/r)$ $r$ times. Each simulation of $\\exp(-i H t/r)$ is called a Trotter step. The unitary $\\exp(-i H t/r)$ is approximated by interleaving simulations of the terms $H_j$ of a decomposition $H = \\sum_{j=1}^L H_j$. For example, the first-order symmetric, commonly known as the second-order, Trotter formula is\n",
    "\n",
    "$$\\exp(-i H t) \\approx \\prod_{j=1}^L \\exp(-i H_j t/2) \\prod_{j=L}^1 \\exp(-i H_j t/2).$$\n",
    "\n",
    "Higher-order product formulas are obtained from this one via a recursive construction. In our case, the $H_j$ have the form $T_{pq} a^\\dagger_p a_q + T_{pq}^* a^\\dagger_q a_p$ or $V_{pq} a^\\dagger_p a_p a^\\dagger_q a_q$.\n",
    "\n",
    "To construct a circuit for performing time evolution via a product formula, we need to specify the total evolution time, the number of steps to use, and the order of the formula to use. For a fixed evolution time, increasing the number of steps and increasing the order of the formula both yield a more accurate simulation at the cost of increasing the gate count of the circuit.\n",
    "\n",
    "We have the additional option of choosing between two different methods of implementing the second-order Trotter step, the base case of the recursive construction of higher-order formulas. The options are `SWAP_NETWORK` and `SPLIT_OPERATOR`, and they correspond to different orderings of the terms $H_j$ in the product formula. Different orderings give different results because the $H_j$ do not all commute. Both algorithms require only a linear connectivity architecture and perform a second-order Trotter step in linear depth, but `SWAP_NETWORK` results in slightly smaller depth. The default method is `SWAP_NETWORK`.\n",
    "\n",
    "Let's construct a circuit with the `SWAP_NETWORK` (default) method using just one Trotter step and the second-order formula. We'll insert operations into the circuit using the strategy `EARLIEST` so the printed output will be most compact. Still, the circuit will be longer than the width of this notebook, so we'll print it out transposed."
   ]
  },
  {
   "cell_type": "code",
   "execution_count": 5,
   "metadata": {
    "scrolled": false
   },
   "outputs": [
    {
     "name": "stdout",
     "output_type": "stream",
     "text": [
      "0          1        2          3\n",
      "│          │        │          │\n",
      "XXYY^0.858─XXYY     XXYY^0.858─XXYY\n",
      "│          │        │          │\n",
      "@^0.0253───Z        @^0.0253───Z\n",
      "│          │        │          │\n",
      "×ᶠ─────────×ᶠ       ×ᶠ─────────×ᶠ\n",
      "│          │        │          │\n",
      "│          @^0.076──Z          │\n",
      "│          │        │          │\n",
      "│          ×ᶠ───────×ᶠ         │\n",
      "│          │        │          │\n",
      "XXYY^0.858─XXYY     XXYY^0.858─XXYY\n",
      "│          │        │          │\n",
      "@^0.0253───Z        @^0.0253───Z\n",
      "│          │        │          │\n",
      "×ᶠ─────────×ᶠ       ×ᶠ─────────×ᶠ\n",
      "│          │        │          │\n",
      "Z^-0.283   │        │          Z^-0.283\n",
      "│          │        │          │\n",
      "│          @^0.076──Z          │\n",
      "│          │        │          │\n",
      "│          ×ᶠ───────×ᶠ         │\n",
      "│          │        │          │\n",
      "│          Z^-0.283 Z^-0.283   │\n",
      "│          │        │          │\n",
      "│          Z^0.076──@          │\n",
      "│          │        │          │\n",
      "│          ×ᶠ───────×ᶠ         │\n",
      "│          │        │          │\n",
      "XXYY^0.858─XXYY     XXYY^0.858─XXYY\n",
      "│          │        │          │\n",
      "Z^0.0253───@        Z^0.0253───@\n",
      "│          │        │          │\n",
      "×ᶠ─────────×ᶠ       ×ᶠ─────────×ᶠ\n",
      "│          │        │          │\n",
      "│          Z^0.076──@          │\n",
      "│          │        │          │\n",
      "│          ×ᶠ───────×ᶠ         │\n",
      "│          │        │          │\n",
      "XXYY^0.858─XXYY     XXYY^0.858─XXYY\n",
      "│          │        │          │\n",
      "Z^0.0253───@        Z^0.0253───@\n",
      "│          │        │          │\n",
      "×ᶠ─────────×ᶠ       ×ᶠ─────────×ᶠ\n",
      "│          │        │          │\n",
      "\n"
     ]
    }
   ],
   "source": [
    "# Set algorithm parameters\n",
    "time = 1.\n",
    "n_steps = 1\n",
    "order = 1  # Use the first-order symmetric (second-order) formula\n",
    "\n",
    "# Construct circuit\n",
    "swap_network_trotter_step = cirq.Circuit.from_ops(\n",
    "    openfermioncirq.simulate_trotter(\n",
    "        qubits, hamiltonian, time, n_steps, order),\n",
    "    strategy=cirq.InsertStrategy.EARLIEST)\n",
    "\n",
    "optimize_circuit(swap_network_trotter_step)\n",
    "\n",
    "print(swap_network_trotter_step.to_text_diagram(transpose=True))"
   ]
  },
  {
   "cell_type": "markdown",
   "metadata": {},
   "source": [
    "Now let's do the same, but using the `SPLIT_OPERATOR` method."
   ]
  },
  {
   "cell_type": "code",
   "execution_count": 6,
   "metadata": {
    "scrolled": false
   },
   "outputs": [
    {
     "name": "stdout",
     "output_type": "stream",
     "text": [
      "0           1           2           3\n",
      "│           │           │           │\n",
      "│           │           YXXY^0.5────#2\n",
      "│           │           │           │\n",
      "│           YXXY^0.608──#2          │\n",
      "│           │           │           │\n",
      "│           │           YXXY^-0.333─#2\n",
      "│           │           │           │\n",
      "YXXY^0.667──#2          │           │\n",
      "│           │           │           │\n",
      "│           YXXY────────#2          │\n",
      "│           │           │           │\n",
      "│           Z^0.858     YXXY^-0.392─#2\n",
      "│           │           │           │\n",
      "│           │           Z^0.858     Z^-0.283\n",
      "│           │           │           │\n",
      "│           │           YXXY^0.392──#2\n",
      "│           │           │           │\n",
      "│           YXXY^-1.0───#2          │\n",
      "│           │           │           │\n",
      "YXXY^-0.667─#2          │           │\n",
      "│           │           │           │\n",
      "│           │           YXXY^0.333──#2\n",
      "│           │           │           │\n",
      "│           YXXY^-0.608─#2          │\n",
      "│           │           │           │\n",
      "@^0.0507────Z           │           │\n",
      "│           │           │           │\n",
      "×───────────×           YXXY^-0.5───#2\n",
      "│           │           │           │\n",
      "│           │           @^0.0507────Z\n",
      "│           │           │           │\n",
      "│           │           ×───────────×\n",
      "│           │           │           │\n",
      "│           @^0.152─────Z           │\n",
      "│           │           │           │\n",
      "│           ×───────────×           │\n",
      "│           │           │           │\n",
      "@^0.0507────Z           @^0.0507────Z\n",
      "│           │           │           │\n",
      "×───────────×           ×───────────×\n",
      "│           │           │           │\n",
      "│           @^0.152─────Z           │\n",
      "│           │           │           │\n",
      "│           ×───────────×           │\n",
      "│           │           │           │\n",
      "#2^0.5──────YXXY        │           │\n",
      "│           │           │           │\n",
      "│           #2^0.608────YXXY        │\n",
      "│           │           │           │\n",
      "#2^-0.333───YXXY        │           │\n",
      "│           │           │           │\n",
      "│           │           #2^0.667────YXXY\n",
      "│           │           │           │\n",
      "│           #2──────────YXXY        │\n",
      "│           │           │           │\n",
      "#2^-0.392───YXXY        Z^0.858     │\n",
      "│           │           │           │\n",
      "Z^-0.283    Z^0.858     │           │\n",
      "│           │           │           │\n",
      "#2^0.392────YXXY        │           │\n",
      "│           │           │           │\n",
      "│           #2^-1.0─────YXXY        │\n",
      "│           │           │           │\n",
      "│           │           #2^-0.667───YXXY\n",
      "│           │           │           │\n",
      "#2^0.333────YXXY        │           │\n",
      "│           │           │           │\n",
      "│           #2^-0.608───YXXY        │\n",
      "│           │           │           │\n",
      "│           │           ×───────────×\n",
      "│           │           │           │\n",
      "#2^-0.5─────YXXY        │           │\n",
      "│           │           │           │\n",
      "×───────────×           │           │\n",
      "│           │           │           │\n",
      "│           ×───────────×           │\n",
      "│           │           │           │\n",
      "×───────────×           ×───────────×\n",
      "│           │           │           │\n",
      "│           ×───────────×           │\n",
      "│           │           │           │\n",
      "\n"
     ]
    }
   ],
   "source": [
    "split_operator_trotter_step = cirq.Circuit.from_ops(\n",
    "    openfermioncirq.simulate_trotter(\n",
    "        qubits, hamiltonian, time, n_steps, order,\n",
    "        algorithm=openfermioncirq.trotter.SPLIT_OPERATOR),\n",
    "    strategy=cirq.InsertStrategy.EARLIEST)\n",
    "\n",
    "optimize_circuit(split_operator_trotter_step)\n",
    "\n",
    "print(split_operator_trotter_step.to_text_diagram(transpose=True))"
   ]
  },
  {
   "cell_type": "markdown",
   "metadata": {},
   "source": [
    "Let's run these circuits on the simulator that comes with Cirq and compute the energy of the resulting states. To guarantee that the simulator uses the same tensor product ordering as OpenFermion to interpret the initial state and construct the output wavefunction, we need to give it the qubit order explicitly."
   ]
  },
  {
   "cell_type": "code",
   "execution_count": 7,
   "metadata": {},
   "outputs": [
    {
     "name": "stdout",
     "output_type": "stream",
     "text": [
      "Energy of state obtained with swap network method: 24.719991853831573\n",
      "Energy of state obtained with split-operator method: 20.373788628511623\n"
     ]
    }
   ],
   "source": [
    "simulator = cirq.google.XmonSimulator()\n",
    "\n",
    "# Convert the Hamiltonian to a sparse matrix\n",
    "hamiltonian_sparse = openfermion.get_sparse_operator(hamiltonian)\n",
    "\n",
    "# Construct and simulate circuit using the swap network method\n",
    "circuit = state_preparation_circuit + swap_network_trotter_step\n",
    "result = simulator.simulate(\n",
    "    circuit,\n",
    "    initial_state=initial_state,\n",
    "    qubit_order=qubits)\n",
    "final_state = result.final_state\n",
    "\n",
    "print('Energy of state obtained with swap network method: {}'.format(\n",
    "    openfermion.expectation(hamiltonian_sparse, final_state).real))\n",
    "\n",
    "# Construct and simulate circuit using the split-operator method\n",
    "circuit = state_preparation_circuit + split_operator_trotter_step\n",
    "result = simulator.simulate(\n",
    "    circuit,\n",
    "    initial_state=initial_state,\n",
    "    qubit_order=qubits)\n",
    "final_state = result.final_state\n",
    "\n",
    "print('Energy of state obtained with split-operator method: {}'.format(\n",
    "    openfermion.expectation(hamiltonian_sparse, final_state).real))"
   ]
  },
  {
   "cell_type": "markdown",
   "metadata": {},
   "source": [
    "Increasing the number of Trotter steps will cause both methods to converge to the same operation, corresponding to an exact simulation. Let's perform the simulation again after increasing the number of steps. This time, we'll construct both circuits from scratch."
   ]
  },
  {
   "cell_type": "code",
   "execution_count": 8,
   "metadata": {
    "scrolled": true
   },
   "outputs": [
    {
     "name": "stdout",
     "output_type": "stream",
     "text": [
      "Energy of state obtained with swap network method: 19.426866262586053\n",
      "Energy of state obtained with split-operator method: 19.424703863074306\n"
     ]
    }
   ],
   "source": [
    "# Increase the number of steps to 10\n",
    "n_steps = 10\n",
    "\n",
    "# Construct and simulate circuit using the swap network method\n",
    "circuit = cirq.Circuit.from_ops(\n",
    "    openfermioncirq.bogoliubov_transform(\n",
    "        qubits, transformation_matrix, initial_state=initial_state),\n",
    "    openfermioncirq.simulate_trotter(\n",
    "        qubits, hamiltonian, time, n_steps, order,\n",
    "        algorithm=openfermioncirq.trotter.SWAP_NETWORK)\n",
    ")\n",
    "result = simulator.simulate(\n",
    "    circuit,\n",
    "    initial_state=initial_state,\n",
    "    qubit_order=qubits)\n",
    "final_state = result.final_state\n",
    "\n",
    "print('Energy of state obtained with swap network method: {}'.format(\n",
    "    openfermion.expectation(hamiltonian_sparse, final_state).real))\n",
    "\n",
    "# Construct and simulate circuit using the split-operator method\n",
    "circuit = cirq.Circuit.from_ops(\n",
    "    openfermioncirq.bogoliubov_transform(\n",
    "        qubits, transformation_matrix, initial_state=initial_state),\n",
    "    openfermioncirq.simulate_trotter(\n",
    "        qubits, hamiltonian, time, n_steps, order,\n",
    "        algorithm=openfermioncirq.trotter.SPLIT_OPERATOR)\n",
    ")\n",
    "result = simulator.simulate(\n",
    "    circuit,\n",
    "    initial_state=initial_state,\n",
    "    qubit_order=qubits)\n",
    "final_state = result.final_state\n",
    "\n",
    "print('Energy of state obtained with split-operator method: {}'.format(\n",
    "    openfermion.expectation(hamiltonian_sparse, final_state).real))"
   ]
  }
 ],
 "metadata": {
  "kernelspec": {
   "display_name": "Python 3",
   "language": "python",
   "name": "python3"
  },
  "language_info": {
   "codemirror_mode": {
    "name": "ipython",
    "version": 3
   },
   "file_extension": ".py",
   "mimetype": "text/x-python",
   "name": "python",
   "nbconvert_exporter": "python",
   "pygments_lexer": "ipython3",
   "version": "3.6.5"
  }
 },
 "nbformat": 4,
 "nbformat_minor": 2
}
